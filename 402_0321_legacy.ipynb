{
 "cells": [
  {
   "cell_type": "code",
   "execution_count": 2,
   "metadata": {},
   "outputs": [],
   "source": [
    "#!conda list"
   ]
  },
  {
   "cell_type": "code",
   "execution_count": 3,
   "metadata": {},
   "outputs": [],
   "source": [
    "import pygrib\n",
    "import pandas as pd\n",
    "import numpy as np"
   ]
  },
  {
   "cell_type": "code",
   "execution_count": 4,
   "metadata": {},
   "outputs": [],
   "source": [
    "grbs = pygrib.open('20151018_1024_9b49a5d5.grib')"
   ]
  },
  {
   "cell_type": "code",
   "execution_count": 5,
   "metadata": {},
   "outputs": [],
   "source": [
    "grb=grbs[1:]\n",
    "grb.append(grbs[len(grb)+1])"
   ]
  },
  {
   "cell_type": "code",
   "execution_count": 6,
   "metadata": {},
   "outputs": [],
   "source": [
    "#selected_grbs=grbs.select(shortName=\"u\",typeOfLevel='isobaricInhPa',level=[500,700,800,925,1000])\n",
    "#selected_grbs[0]"
   ]
  },
  {
   "cell_type": "code",
   "execution_count": 7,
   "metadata": {},
   "outputs": [],
   "source": [
    "numChannels=12\n",
    "gridShape=(221,381)\n",
    "framesPerDay=24\n",
    "isoLvls=[500,700,850,925,1000]\n",
    "numIsoLvls=len(isoLvls)\n",
    "numFrames=len(grb)\n",
    "numDays=numFrames//(numChannels*framesPerDay*numIsoLvls)\n",
    "#INDEX=Frame*5*12+IsoLvl*12+Channel (tot=12*5*24*numDays)\n",
    "assert numDays==numFrames/(numChannels*framesPerDay*numIsoLvls) #Having integer number of days\n",
    "assert grb[1].values.shape==gridShape #Check grid shape matches"
   ]
  },
  {
   "cell_type": "code",
   "execution_count": 8,
   "metadata": {},
   "outputs": [],
   "source": [
    "firstFrame=grb[0]['day']"
   ]
  },
  {
   "cell_type": "code",
   "execution_count": 9,
   "metadata": {},
   "outputs": [
    {
     "data": {
      "text/plain": [
       "['globalDomain',\n",
       " 'GRIBEditionNumber',\n",
       " 'eps',\n",
       " 'offsetSection0',\n",
       " 'section0Length',\n",
       " 'totalLength',\n",
       " 'editionNumber',\n",
       " 'WMO',\n",
       " 'productionStatusOfProcessedData',\n",
       " 'section1Length',\n",
       " 'wrongPadding',\n",
       " 'table2Version',\n",
       " 'centre',\n",
       " 'centreDescription',\n",
       " 'generatingProcessIdentifier',\n",
       " 'gridDefinition',\n",
       " 'indicatorOfParameter',\n",
       " 'parameterName',\n",
       " 'parameterUnits',\n",
       " 'indicatorOfTypeOfLevel',\n",
       " 'pressureUnits',\n",
       " 'typeOfLevelECMF',\n",
       " 'typeOfLevel',\n",
       " 'level',\n",
       " 'yearOfCentury',\n",
       " 'month',\n",
       " 'day',\n",
       " 'hour',\n",
       " 'minute',\n",
       " 'second',\n",
       " 'unitOfTimeRange',\n",
       " 'P1',\n",
       " 'P2',\n",
       " 'timeRangeIndicator',\n",
       " 'numberIncludedInAverage',\n",
       " 'numberMissingFromAveragesOrAccumulations',\n",
       " 'centuryOfReferenceTimeOfData',\n",
       " 'subCentre',\n",
       " 'paramIdECMF',\n",
       " 'paramId',\n",
       " 'cfNameECMF',\n",
       " 'cfName',\n",
       " 'cfVarNameECMF',\n",
       " 'cfVarName',\n",
       " 'unitsECMF',\n",
       " 'units',\n",
       " 'nameECMF',\n",
       " 'name',\n",
       " 'decimalScaleFactor',\n",
       " 'setLocalDefinition',\n",
       " 'optimizeScaleFactor',\n",
       " 'dataDate',\n",
       " 'year',\n",
       " 'dataTime',\n",
       " 'julianDay',\n",
       " 'stepUnits',\n",
       " 'stepType',\n",
       " 'stepRange',\n",
       " 'startStep',\n",
       " 'endStep',\n",
       " 'marsParam',\n",
       " 'validityDate',\n",
       " 'validityTime',\n",
       " 'deleteLocalDefinition',\n",
       " 'localUsePresent',\n",
       " 'localDefinitionNumber',\n",
       " 'GRIBEXSection1Problem',\n",
       " 'marsClass',\n",
       " 'marsType',\n",
       " 'marsStream',\n",
       " 'experimentVersionNumber',\n",
       " 'perturbationNumber',\n",
       " 'numberOfForecastsInEnsemble',\n",
       " 'grib2LocalSectionNumber',\n",
       " 'shortNameECMF',\n",
       " 'shortName',\n",
       " 'ifsParam',\n",
       " 'stepTypeForConversion',\n",
       " 'md5Section1',\n",
       " 'md5Product',\n",
       " 'gridDescriptionSectionPresent',\n",
       " 'bitmapPresent',\n",
       " 'angleSubdivisions',\n",
       " 'section2Length',\n",
       " 'radius',\n",
       " 'numberOfVerticalCoordinateValues',\n",
       " 'neitherPresent',\n",
       " 'pvlLocation',\n",
       " 'dataRepresentationType',\n",
       " 'gridDefinitionDescription',\n",
       " 'gridDefinitionTemplateNumber',\n",
       " 'Ni',\n",
       " 'Nj',\n",
       " 'latitudeOfFirstGridPoint',\n",
       " 'latitudeOfFirstGridPointInDegrees',\n",
       " 'longitudeOfFirstGridPoint',\n",
       " 'longitudeOfFirstGridPointInDegrees',\n",
       " 'resolutionAndComponentFlags',\n",
       " 'ijDirectionIncrementGiven',\n",
       " 'earthIsOblate',\n",
       " 'resolutionAndComponentFlags3',\n",
       " 'resolutionAndComponentFlags4',\n",
       " 'uvRelativeToGrid',\n",
       " 'resolutionAndComponentFlags6',\n",
       " 'resolutionAndComponentFlags7',\n",
       " 'resolutionAndComponentFlags8',\n",
       " 'latitudeOfLastGridPoint',\n",
       " 'latitudeOfLastGridPointInDegrees',\n",
       " 'longitudeOfLastGridPoint',\n",
       " 'longitudeOfLastGridPointInDegrees',\n",
       " 'iDirectionIncrement',\n",
       " 'jDirectionIncrement',\n",
       " 'scanningMode',\n",
       " 'iScansNegatively',\n",
       " 'jScansPositively',\n",
       " 'jPointsAreConsecutive',\n",
       " 'alternativeRowScanning',\n",
       " 'iScansPositively',\n",
       " 'scanningMode4',\n",
       " 'scanningMode5',\n",
       " 'scanningMode6',\n",
       " 'scanningMode7',\n",
       " 'scanningMode8',\n",
       " 'jDirectionIncrementInDegrees',\n",
       " 'iDirectionIncrementInDegrees',\n",
       " 'numberOfDataPoints',\n",
       " 'numberOfValues',\n",
       " 'latLonValues',\n",
       " 'latitudes',\n",
       " 'longitudes',\n",
       " 'distinctLatitudes',\n",
       " 'distinctLongitudes',\n",
       " 'zeros',\n",
       " 'PVPresent',\n",
       " 'PLPresent',\n",
       " 'deletePV',\n",
       " 'md5Section2',\n",
       " 'lengthOfHeaders',\n",
       " 'md5Headers',\n",
       " 'missingValue',\n",
       " 'tableReference',\n",
       " 'section4Length',\n",
       " 'halfByte',\n",
       " 'dataFlag',\n",
       " 'binaryScaleFactor',\n",
       " 'referenceValue',\n",
       " 'referenceValueError',\n",
       " 'sphericalHarmonics',\n",
       " 'complexPacking',\n",
       " 'integerPointValues',\n",
       " 'additionalFlagPresent',\n",
       " 'orderOfSPD',\n",
       " 'boustrophedonic',\n",
       " 'hideThis',\n",
       " 'packingType',\n",
       " 'bitsPerValue',\n",
       " 'constantFieldHalfByte',\n",
       " 'bitMapIndicator',\n",
       " 'values',\n",
       " 'numberOfCodedValues',\n",
       " 'packingError',\n",
       " 'unpackedError',\n",
       " 'maximum',\n",
       " 'minimum',\n",
       " 'average',\n",
       " 'numberOfMissing',\n",
       " 'standardDeviation',\n",
       " 'skewness',\n",
       " 'kurtosis',\n",
       " 'isConstant',\n",
       " 'dataLength',\n",
       " 'changeDecimalPrecision',\n",
       " 'decimalPrecision',\n",
       " 'bitsPerValueAndRepack',\n",
       " 'scaleValuesBy',\n",
       " 'offsetValuesBy',\n",
       " 'gridType',\n",
       " 'getNumberOfValues',\n",
       " 'md5Section4',\n",
       " 'section5Length',\n",
       " 'analDate',\n",
       " 'validDate']"
      ]
     },
     "execution_count": 9,
     "metadata": {},
     "output_type": "execute_result"
    }
   ],
   "source": [
    "grb[0].keys()"
   ]
  },
  {
   "cell_type": "code",
   "execution_count": 10,
   "metadata": {},
   "outputs": [
    {
     "data": {
      "text/plain": [
       "[1:Divergence:s**-1 (instant):regular_ll:isobaricInhPa:level 500:fcst time 0 hrs:from 201510180000,\n",
       " 2:Fraction of cloud cover:(0 - 1) (instant):regular_ll:isobaricInhPa:level 500:fcst time 0 hrs:from 201510180000,\n",
       " 3:Geopotential:m**2 s**-2 (instant):regular_ll:isobaricInhPa:level 500:fcst time 0 hrs:from 201510180000,\n",
       " 4:Potential vorticity:K m**2 kg**-1 s**-1 (instant):regular_ll:isobaricInhPa:level 500:fcst time 0 hrs:from 201510180000,\n",
       " 5:Specific cloud ice water content:kg kg**-1 (instant):regular_ll:isobaricInhPa:level 500:fcst time 0 hrs:from 201510180000,\n",
       " 6:Specific cloud liquid water content:kg kg**-1 (instant):regular_ll:isobaricInhPa:level 500:fcst time 0 hrs:from 201510180000,\n",
       " 7:Specific humidity:kg kg**-1 (instant):regular_ll:isobaricInhPa:level 500:fcst time 0 hrs:from 201510180000,\n",
       " 8:Temperature:K (instant):regular_ll:isobaricInhPa:level 500:fcst time 0 hrs:from 201510180000,\n",
       " 9:U component of wind:m s**-1 (instant):regular_ll:isobaricInhPa:level 500:fcst time 0 hrs:from 201510180000,\n",
       " 10:V component of wind:m s**-1 (instant):regular_ll:isobaricInhPa:level 500:fcst time 0 hrs:from 201510180000,\n",
       " 11:Vertical velocity:Pa s**-1 (instant):regular_ll:isobaricInhPa:level 500:fcst time 0 hrs:from 201510180000,\n",
       " 12:Vorticity (relative):s**-1 (instant):regular_ll:isobaricInhPa:level 500:fcst time 0 hrs:from 201510180000,\n",
       " 13:Divergence:s**-1 (instant):regular_ll:isobaricInhPa:level 700:fcst time 0 hrs:from 201510180000]"
      ]
     },
     "execution_count": 10,
     "metadata": {},
     "output_type": "execute_result"
    }
   ],
   "source": [
    "grb[0:13]"
   ]
  },
  {
   "cell_type": "code",
   "execution_count": 11,
   "metadata": {},
   "outputs": [
    {
     "name": "stdout",
     "output_type": "stream",
     "text": [
      "(168, 5, 12, 221, 381)\n"
     ]
    }
   ],
   "source": [
    "arr=np.zeros(shape=(numDays*framesPerDay,numIsoLvls,numChannels,*gridShape))\n",
    "print(arr.shape)\n",
    "\n",
    "def parseIndices(i):\n",
    "    timeLoc=i//(numChannels*numIsoLvls)\n",
    "    isoLoc=(i-timeLoc*(numChannels*numIsoLvls))//numChannels\n",
    "    channelLoc=i-timeLoc*(numChannels*numIsoLvls)-isoLoc*numChannels\n",
    "    return timeLoc,isoLoc,channelLoc\n",
    "\n",
    "#INDEX=Frame*60+IsoLvl*12+Channel (tot=12*5*24*numDays)\n",
    "for i,v in enumerate(grb):\n",
    "    arr[*parseIndices(i)] = v.values"
   ]
  },
  {
   "cell_type": "code",
   "execution_count": 12,
   "metadata": {},
   "outputs": [
    {
     "data": {
      "text/plain": [
       "(4, 0, 7)"
      ]
     },
     "execution_count": 12,
     "metadata": {},
     "output_type": "execute_result"
    }
   ],
   "source": [
    "parseIndices(247)"
   ]
  },
  {
   "cell_type": "code",
   "execution_count": 13,
   "metadata": {},
   "outputs": [
    {
     "data": {
      "text/plain": [
       "array([[242.90100098, 242.8873291 , 242.87658691, ..., 241.73791504,\n",
       "        241.25744629, 240.79455566],\n",
       "       [242.96936035, 242.95666504, 242.9420166 , ..., 241.98498535,\n",
       "        241.4654541 , 240.96057129],\n",
       "       [242.9888916 , 242.98205566, 242.97229004, ..., 242.20373535,\n",
       "        241.65100098, 241.11193848],\n",
       "       ...,\n",
       "       [269.45666504, 269.48498535, 269.56213379, ..., 269.52893066,\n",
       "        269.26428223, 268.98303223],\n",
       "       [269.56994629, 269.55822754, 269.57873535, ..., 269.55822754,\n",
       "        269.31115723, 269.04260254],\n",
       "       [269.66662598, 269.63049316, 269.61682129, ..., 269.60900879,\n",
       "        269.3560791 , 269.10314941]])"
      ]
     },
     "execution_count": 13,
     "metadata": {},
     "output_type": "execute_result"
    }
   ],
   "source": [
    "grb[247].values"
   ]
  },
  {
   "cell_type": "code",
   "execution_count": 14,
   "metadata": {},
   "outputs": [
    {
     "data": {
      "text/plain": [
       "array([[242.90100098, 242.8873291 , 242.87658691, ..., 241.73791504,\n",
       "        241.25744629, 240.79455566],\n",
       "       [242.96936035, 242.95666504, 242.9420166 , ..., 241.98498535,\n",
       "        241.4654541 , 240.96057129],\n",
       "       [242.9888916 , 242.98205566, 242.97229004, ..., 242.20373535,\n",
       "        241.65100098, 241.11193848],\n",
       "       ...,\n",
       "       [269.45666504, 269.48498535, 269.56213379, ..., 269.52893066,\n",
       "        269.26428223, 268.98303223],\n",
       "       [269.56994629, 269.55822754, 269.57873535, ..., 269.55822754,\n",
       "        269.31115723, 269.04260254],\n",
       "       [269.66662598, 269.63049316, 269.61682129, ..., 269.60900879,\n",
       "        269.3560791 , 269.10314941]])"
      ]
     },
     "execution_count": 14,
     "metadata": {},
     "output_type": "execute_result"
    }
   ],
   "source": [
    "arr[4,0,7]"
   ]
  },
  {
   "cell_type": "code",
   "execution_count": 15,
   "metadata": {},
   "outputs": [],
   "source": [
    "inTensor=arr.reshape(numDays*framesPerDay,*gridShape,numChannels*numIsoLvls)"
   ]
  },
  {
   "cell_type": "code",
   "execution_count": 16,
   "metadata": {},
   "outputs": [
    {
     "name": "stderr",
     "output_type": "stream",
     "text": [
      "c:\\Users\\KelM\\anaconda3\\envs\\ecmwf\\Lib\\site-packages\\keras\\src\\layers\\core\\wrapper.py:27: UserWarning: Do not pass an `input_shape`/`input_dim` argument to a layer. When using Sequential models, prefer using an `Input(shape)` object as the first layer in the model instead.\n",
      "  super().__init__(**kwargs)\n"
     ]
    },
    {
     "data": {
      "text/html": [
       "<pre style=\"white-space:pre;overflow-x:auto;line-height:normal;font-family:Menlo,'DejaVu Sans Mono',consolas,'Courier New',monospace\"><span style=\"font-weight: bold\">Model: \"sequential_1\"</span>\n",
       "</pre>\n"
      ],
      "text/plain": [
       "\u001b[1mModel: \"sequential_1\"\u001b[0m\n"
      ]
     },
     "metadata": {},
     "output_type": "display_data"
    },
    {
     "data": {
      "text/html": [
       "<pre style=\"white-space:pre;overflow-x:auto;line-height:normal;font-family:Menlo,'DejaVu Sans Mono',consolas,'Courier New',monospace\">┏━━━━━━━━━━━━━━━━━━━━━━━━━━━━━━━━━┳━━━━━━━━━━━━━━━━━━━━━━━━┳━━━━━━━━━━━━━━━┓\n",
       "┃<span style=\"font-weight: bold\"> Layer (type)                    </span>┃<span style=\"font-weight: bold\"> Output Shape           </span>┃<span style=\"font-weight: bold\">       Param # </span>┃\n",
       "┡━━━━━━━━━━━━━━━━━━━━━━━━━━━━━━━━━╇━━━━━━━━━━━━━━━━━━━━━━━━╇━━━━━━━━━━━━━━━┩\n",
       "│ time_distributed                │ (<span style=\"color: #00d7ff; text-decoration-color: #00d7ff\">None</span>, <span style=\"color: #00d7ff; text-decoration-color: #00d7ff\">None</span>, <span style=\"color: #00af00; text-decoration-color: #00af00\">219</span>, <span style=\"color: #00af00; text-decoration-color: #00af00\">379</span>, │        <span style=\"color: #00af00; text-decoration-color: #00af00\">17,312</span> │\n",
       "│ (<span style=\"color: #0087ff; text-decoration-color: #0087ff\">TimeDistributed</span>)               │ <span style=\"color: #00af00; text-decoration-color: #00af00\">32</span>)                    │               │\n",
       "├─────────────────────────────────┼────────────────────────┼───────────────┤\n",
       "│ time_distributed_1              │ (<span style=\"color: #00d7ff; text-decoration-color: #00d7ff\">None</span>, <span style=\"color: #00d7ff; text-decoration-color: #00d7ff\">None</span>, <span style=\"color: #00af00; text-decoration-color: #00af00\">109</span>, <span style=\"color: #00af00; text-decoration-color: #00af00\">189</span>, │             <span style=\"color: #00af00; text-decoration-color: #00af00\">0</span> │\n",
       "│ (<span style=\"color: #0087ff; text-decoration-color: #0087ff\">TimeDistributed</span>)               │ <span style=\"color: #00af00; text-decoration-color: #00af00\">32</span>)                    │               │\n",
       "├─────────────────────────────────┼────────────────────────┼───────────────┤\n",
       "│ time_distributed_2              │ (<span style=\"color: #00d7ff; text-decoration-color: #00d7ff\">None</span>, <span style=\"color: #00d7ff; text-decoration-color: #00d7ff\">None</span>, <span style=\"color: #00af00; text-decoration-color: #00af00\">107</span>, <span style=\"color: #00af00; text-decoration-color: #00af00\">187</span>, │        <span style=\"color: #00af00; text-decoration-color: #00af00\">18,496</span> │\n",
       "│ (<span style=\"color: #0087ff; text-decoration-color: #0087ff\">TimeDistributed</span>)               │ <span style=\"color: #00af00; text-decoration-color: #00af00\">64</span>)                    │               │\n",
       "├─────────────────────────────────┼────────────────────────┼───────────────┤\n",
       "│ time_distributed_3              │ (<span style=\"color: #00d7ff; text-decoration-color: #00d7ff\">None</span>, <span style=\"color: #00d7ff; text-decoration-color: #00d7ff\">None</span>, <span style=\"color: #00af00; text-decoration-color: #00af00\">53</span>, <span style=\"color: #00af00; text-decoration-color: #00af00\">93</span>,   │             <span style=\"color: #00af00; text-decoration-color: #00af00\">0</span> │\n",
       "│ (<span style=\"color: #0087ff; text-decoration-color: #0087ff\">TimeDistributed</span>)               │ <span style=\"color: #00af00; text-decoration-color: #00af00\">64</span>)                    │               │\n",
       "├─────────────────────────────────┼────────────────────────┼───────────────┤\n",
       "│ time_distributed_4              │ (<span style=\"color: #00d7ff; text-decoration-color: #00d7ff\">None</span>, <span style=\"color: #00d7ff; text-decoration-color: #00d7ff\">None</span>, <span style=\"color: #00af00; text-decoration-color: #00af00\">315456</span>)   │             <span style=\"color: #00af00; text-decoration-color: #00af00\">0</span> │\n",
       "│ (<span style=\"color: #0087ff; text-decoration-color: #0087ff\">TimeDistributed</span>)               │                        │               │\n",
       "├─────────────────────────────────┼────────────────────────┼───────────────┤\n",
       "│ dense (<span style=\"color: #0087ff; text-decoration-color: #0087ff\">Dense</span>)                   │ (<span style=\"color: #00d7ff; text-decoration-color: #00d7ff\">None</span>, <span style=\"color: #00d7ff; text-decoration-color: #00d7ff\">None</span>, <span style=\"color: #00af00; text-decoration-color: #00af00\">100</span>)      │    <span style=\"color: #00af00; text-decoration-color: #00af00\">31,545,700</span> │\n",
       "├─────────────────────────────────┼────────────────────────┼───────────────┤\n",
       "│ dense_1 (<span style=\"color: #0087ff; text-decoration-color: #0087ff\">Dense</span>)                 │ (<span style=\"color: #00d7ff; text-decoration-color: #00d7ff\">None</span>, <span style=\"color: #00d7ff; text-decoration-color: #00d7ff\">None</span>, <span style=\"color: #00af00; text-decoration-color: #00af00\">2</span>)        │           <span style=\"color: #00af00; text-decoration-color: #00af00\">202</span> │\n",
       "└─────────────────────────────────┴────────────────────────┴───────────────┘\n",
       "</pre>\n"
      ],
      "text/plain": [
       "┏━━━━━━━━━━━━━━━━━━━━━━━━━━━━━━━━━┳━━━━━━━━━━━━━━━━━━━━━━━━┳━━━━━━━━━━━━━━━┓\n",
       "┃\u001b[1m \u001b[0m\u001b[1mLayer (type)                   \u001b[0m\u001b[1m \u001b[0m┃\u001b[1m \u001b[0m\u001b[1mOutput Shape          \u001b[0m\u001b[1m \u001b[0m┃\u001b[1m \u001b[0m\u001b[1m      Param #\u001b[0m\u001b[1m \u001b[0m┃\n",
       "┡━━━━━━━━━━━━━━━━━━━━━━━━━━━━━━━━━╇━━━━━━━━━━━━━━━━━━━━━━━━╇━━━━━━━━━━━━━━━┩\n",
       "│ time_distributed                │ (\u001b[38;5;45mNone\u001b[0m, \u001b[38;5;45mNone\u001b[0m, \u001b[38;5;34m219\u001b[0m, \u001b[38;5;34m379\u001b[0m, │        \u001b[38;5;34m17,312\u001b[0m │\n",
       "│ (\u001b[38;5;33mTimeDistributed\u001b[0m)               │ \u001b[38;5;34m32\u001b[0m)                    │               │\n",
       "├─────────────────────────────────┼────────────────────────┼───────────────┤\n",
       "│ time_distributed_1              │ (\u001b[38;5;45mNone\u001b[0m, \u001b[38;5;45mNone\u001b[0m, \u001b[38;5;34m109\u001b[0m, \u001b[38;5;34m189\u001b[0m, │             \u001b[38;5;34m0\u001b[0m │\n",
       "│ (\u001b[38;5;33mTimeDistributed\u001b[0m)               │ \u001b[38;5;34m32\u001b[0m)                    │               │\n",
       "├─────────────────────────────────┼────────────────────────┼───────────────┤\n",
       "│ time_distributed_2              │ (\u001b[38;5;45mNone\u001b[0m, \u001b[38;5;45mNone\u001b[0m, \u001b[38;5;34m107\u001b[0m, \u001b[38;5;34m187\u001b[0m, │        \u001b[38;5;34m18,496\u001b[0m │\n",
       "│ (\u001b[38;5;33mTimeDistributed\u001b[0m)               │ \u001b[38;5;34m64\u001b[0m)                    │               │\n",
       "├─────────────────────────────────┼────────────────────────┼───────────────┤\n",
       "│ time_distributed_3              │ (\u001b[38;5;45mNone\u001b[0m, \u001b[38;5;45mNone\u001b[0m, \u001b[38;5;34m53\u001b[0m, \u001b[38;5;34m93\u001b[0m,   │             \u001b[38;5;34m0\u001b[0m │\n",
       "│ (\u001b[38;5;33mTimeDistributed\u001b[0m)               │ \u001b[38;5;34m64\u001b[0m)                    │               │\n",
       "├─────────────────────────────────┼────────────────────────┼───────────────┤\n",
       "│ time_distributed_4              │ (\u001b[38;5;45mNone\u001b[0m, \u001b[38;5;45mNone\u001b[0m, \u001b[38;5;34m315456\u001b[0m)   │             \u001b[38;5;34m0\u001b[0m │\n",
       "│ (\u001b[38;5;33mTimeDistributed\u001b[0m)               │                        │               │\n",
       "├─────────────────────────────────┼────────────────────────┼───────────────┤\n",
       "│ dense (\u001b[38;5;33mDense\u001b[0m)                   │ (\u001b[38;5;45mNone\u001b[0m, \u001b[38;5;45mNone\u001b[0m, \u001b[38;5;34m100\u001b[0m)      │    \u001b[38;5;34m31,545,700\u001b[0m │\n",
       "├─────────────────────────────────┼────────────────────────┼───────────────┤\n",
       "│ dense_1 (\u001b[38;5;33mDense\u001b[0m)                 │ (\u001b[38;5;45mNone\u001b[0m, \u001b[38;5;45mNone\u001b[0m, \u001b[38;5;34m2\u001b[0m)        │           \u001b[38;5;34m202\u001b[0m │\n",
       "└─────────────────────────────────┴────────────────────────┴───────────────┘\n"
      ]
     },
     "metadata": {},
     "output_type": "display_data"
    },
    {
     "data": {
      "text/html": [
       "<pre style=\"white-space:pre;overflow-x:auto;line-height:normal;font-family:Menlo,'DejaVu Sans Mono',consolas,'Courier New',monospace\"><span style=\"font-weight: bold\"> Total params: </span><span style=\"color: #00af00; text-decoration-color: #00af00\">31,581,710</span> (120.47 MB)\n",
       "</pre>\n"
      ],
      "text/plain": [
       "\u001b[1m Total params: \u001b[0m\u001b[38;5;34m31,581,710\u001b[0m (120.47 MB)\n"
      ]
     },
     "metadata": {},
     "output_type": "display_data"
    },
    {
     "data": {
      "text/html": [
       "<pre style=\"white-space:pre;overflow-x:auto;line-height:normal;font-family:Menlo,'DejaVu Sans Mono',consolas,'Courier New',monospace\"><span style=\"font-weight: bold\"> Trainable params: </span><span style=\"color: #00af00; text-decoration-color: #00af00\">31,581,710</span> (120.47 MB)\n",
       "</pre>\n"
      ],
      "text/plain": [
       "\u001b[1m Trainable params: \u001b[0m\u001b[38;5;34m31,581,710\u001b[0m (120.47 MB)\n"
      ]
     },
     "metadata": {},
     "output_type": "display_data"
    },
    {
     "data": {
      "text/html": [
       "<pre style=\"white-space:pre;overflow-x:auto;line-height:normal;font-family:Menlo,'DejaVu Sans Mono',consolas,'Courier New',monospace\"><span style=\"font-weight: bold\"> Non-trainable params: </span><span style=\"color: #00af00; text-decoration-color: #00af00\">0</span> (0.00 B)\n",
       "</pre>\n"
      ],
      "text/plain": [
       "\u001b[1m Non-trainable params: \u001b[0m\u001b[38;5;34m0\u001b[0m (0.00 B)\n"
      ]
     },
     "metadata": {},
     "output_type": "display_data"
    }
   ],
   "source": [
    "import tensorflow as tf\n",
    "from tensorflow.keras.models import Sequential\n",
    "from tensorflow.keras.layers import Conv2D, MaxPooling2D, Dense, Flatten, TimeDistributed, LSTM\n",
    "\n",
    "# Define your model\n",
    "model = Sequential()\n",
    "\n",
    "# Assuming you flatten the equipotential surface and attribute dimensions into the channel dimension\n",
    "# Input shape: (Time, Height, Width, Channels) where Channels = 5 equipotential surfaces * 12 attributes\n",
    "# You may need to adjust the input shape based on how you preprocess your data\n",
    "\n",
    "# TimeDistributed Wrapper allows the same CNN to be applied to each time step independently\n",
    "model.add(TimeDistributed(Conv2D(filters=32, kernel_size=(3, 3), activation='relu'), input_shape=(None, *gridShape, 60)))\n",
    "model.add(TimeDistributed(MaxPooling2D(pool_size=(2, 2))))\n",
    "\n",
    "model.add(TimeDistributed(Conv2D(filters=64, kernel_size=(3, 3), activation='relu')))\n",
    "model.add(TimeDistributed(MaxPooling2D(pool_size=(2, 2))))\n",
    "\n",
    "model.add(TimeDistributed(Flatten()))\n",
    "\n",
    "# Add LSTM layer to capture temporal dependencies - consider this for later stages\n",
    "# model.add(LSTM(units=50))\n",
    "\n",
    "model.add(Dense(units=100, activation='relu'))\n",
    "model.add(Dense(units=2))  # Predicting 2 values for the cyclone's next location; adjust based on your output\n",
    "\n",
    "model.compile(optimizer='adam', loss='mean_squared_error')  # Use mean squared error for regression problems\n",
    "\n",
    "model.summary()\n",
    "\n",
    "# Training the model will require your data to be in the shape expected by the input layer\n",
    "# X_train: Your feature data, y_train: Your target data (cyclone's next location or movement category)\n",
    "# model.fit(X_train, y_train, epochs=10, batch_size=32)"
   ]
  },
  {
   "cell_type": "code",
   "execution_count": 18,
   "metadata": {},
   "outputs": [
    {
     "name": "stderr",
     "output_type": "stream",
     "text": [
      "C:\\Users\\KelM\\AppData\\Local\\Temp\\ipykernel_3748\\2479941462.py:3: DtypeWarning: Columns (1,2,8,9,14,19,20,161,162) have mixed types. Specify dtype option on import or set low_memory=False.\n",
      "  df = pd.read_csv('ibtracs.EP.list.v04r00.csv')\n"
     ]
    }
   ],
   "source": [
    "import pandas as pd\n",
    "\n",
    "df = pd.read_csv('ibtracs.EP.list.v04r00.csv')"
   ]
  },
  {
   "cell_type": "code",
   "execution_count": 36,
   "metadata": {},
   "outputs": [
    {
     "data": {
      "text/plain": [
       "Index(['SID', 'SEASON', 'NUMBER', 'BASIN', 'SUBBASIN', 'NAME', 'ISO_TIME',\n",
       "       'NATURE', 'LAT', 'LON', 'WMO_WIND', 'WMO_PRES', 'WMO_AGENCY',\n",
       "       'TRACK_TYPE', 'DIST2LAND', 'LANDFALL', 'IFLAG', 'USA_AGENCY',\n",
       "       'USA_ATCF_ID', 'USA_LAT'],\n",
       "      dtype='object')"
      ]
     },
     "execution_count": 36,
     "metadata": {},
     "output_type": "execute_result"
    }
   ],
   "source": [
    "df.columns[:20]"
   ]
  },
  {
   "cell_type": "code",
   "execution_count": 33,
   "metadata": {},
   "outputs": [
    {
     "data": {
      "text/plain": [
       "0       \n",
       "1     TS\n",
       "2     TS\n",
       "3     TS\n",
       "4     TS\n",
       "      ..\n",
       "94    TS\n",
       "95    TS\n",
       "96    TS\n",
       "97    TS\n",
       "98    TS\n",
       "Name: NATURE, Length: 99, dtype: object"
      ]
     },
     "execution_count": 33,
     "metadata": {},
     "output_type": "execute_result"
    }
   ],
   "source": [
    "df['NATURE'][0:99]"
   ]
  },
  {
   "cell_type": "code",
   "execution_count": 41,
   "metadata": {},
   "outputs": [],
   "source": [
    "df_trim=df[['SID','NAME','SEASON','NUMBER','NATURE','ISO_TIME','LAT','LON','WMO_WIND','WMO_PRES','USA_RECORD','USA_STATUS','USA_WIND','USA_PRES','USA_GUST']][1:]\n",
    "df_trim['SEASON']=pd.to_numeric(df_trim['SEASON'])\n",
    "df_trim=df_trim[df_trim['SEASON']>=2015]"
   ]
  },
  {
   "cell_type": "code",
   "execution_count": 42,
   "metadata": {},
   "outputs": [
    {
     "name": "stdout",
     "output_type": "stream",
     "text": [
      "<class 'pandas.core.frame.DataFrame'>\n",
      "Index: 13812 entries, 82432 to 96243\n",
      "Data columns (total 15 columns):\n",
      " #   Column      Non-Null Count  Dtype \n",
      "---  ------      --------------  ----- \n",
      " 0   SID         13812 non-null  object\n",
      " 1   NAME        13812 non-null  object\n",
      " 2   SEASON      13812 non-null  int64 \n",
      " 3   NUMBER      13812 non-null  object\n",
      " 4   NATURE      13812 non-null  object\n",
      " 5   ISO_TIME    13812 non-null  object\n",
      " 6   LAT         13812 non-null  object\n",
      " 7   LON         13812 non-null  object\n",
      " 8   WMO_WIND    13812 non-null  object\n",
      " 9   WMO_PRES    13812 non-null  object\n",
      " 10  USA_RECORD  13812 non-null  object\n",
      " 11  USA_STATUS  13812 non-null  object\n",
      " 12  USA_WIND    13812 non-null  object\n",
      " 13  USA_PRES    13812 non-null  object\n",
      " 14  USA_GUST    13812 non-null  object\n",
      "dtypes: int64(1), object(14)\n",
      "memory usage: 1.7+ MB\n"
     ]
    }
   ],
   "source": [
    "df_trim.info()"
   ]
  },
  {
   "cell_type": "code",
   "execution_count": 43,
   "metadata": {},
   "outputs": [],
   "source": [
    "df_trim.to_csv('BestTrack_Trimmed.csv')"
   ]
  },
  {
   "cell_type": "code",
   "execution_count": 17,
   "metadata": {
    "tags": [
     "d"
    ]
   },
   "outputs": [],
   "source": [
    "#import cdsapi\n",
    "#c = cdsapi.Client()\n",
    "#c.retrieve()"
   ]
  },
  {
   "cell_type": "code",
   "execution_count": null,
   "metadata": {},
   "outputs": [],
   "source": []
  }
 ],
 "metadata": {
  "kernelspec": {
   "display_name": "Python 3",
   "language": "python",
   "name": "python3"
  },
  "language_info": {
   "codemirror_mode": {
    "name": "ipython",
    "version": 3
   },
   "file_extension": ".py",
   "mimetype": "text/x-python",
   "name": "python",
   "nbconvert_exporter": "python",
   "pygments_lexer": "ipython3",
   "version": "3.11.8"
  }
 },
 "nbformat": 4,
 "nbformat_minor": 2
}
